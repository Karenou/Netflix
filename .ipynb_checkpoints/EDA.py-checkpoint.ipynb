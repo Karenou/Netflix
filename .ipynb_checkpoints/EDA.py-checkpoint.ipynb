{
 "cells": [
  {
   "cell_type": "markdown",
   "metadata": {},
   "source": [
    "Data is downloaded from Kaggle via https://www.kaggle.com/shivamb/netflix-shows. This dataset consists of tv shows and movies available on Netflix as of 2019. The dataset is collected from Flixable which is a third-party Netflix search engine."
   ]
  },
  {
   "cell_type": "code",
   "execution_count": 58,
   "metadata": {},
   "outputs": [],
   "source": [
    "import pandas as pd\n",
    "import re\n",
    "from datetime import datetime\n",
    "import numpy as np\n",
    "import matplotlib.pyplot as plt\n",
    "import seaborn as sns"
   ]
  },
  {
   "cell_type": "markdown",
   "metadata": {},
   "source": [
    "# Read Data"
   ]
  },
  {
   "cell_type": "code",
   "execution_count": 76,
   "metadata": {},
   "outputs": [],
   "source": [
    "data=pd.read_csv(\"netflix_titles.csv\")"
   ]
  },
  {
   "cell_type": "markdown",
   "metadata": {},
   "source": [
    "There are in total 6,234 shows on Netflix in the dataset.Only show_id and release_year are numeric types, remaining columns are string."
   ]
  },
  {
   "cell_type": "code",
   "execution_count": 33,
   "metadata": {
    "scrolled": true
   },
   "outputs": [
    {
     "data": {
      "text/html": [
       "<div>\n",
       "<style scoped>\n",
       "    .dataframe tbody tr th:only-of-type {\n",
       "        vertical-align: middle;\n",
       "    }\n",
       "\n",
       "    .dataframe tbody tr th {\n",
       "        vertical-align: top;\n",
       "    }\n",
       "\n",
       "    .dataframe thead th {\n",
       "        text-align: right;\n",
       "    }\n",
       "</style>\n",
       "<table border=\"1\" class=\"dataframe\">\n",
       "  <thead>\n",
       "    <tr style=\"text-align: right;\">\n",
       "      <th></th>\n",
       "      <th>show_id</th>\n",
       "      <th>type</th>\n",
       "      <th>title</th>\n",
       "      <th>director</th>\n",
       "      <th>cast</th>\n",
       "      <th>country</th>\n",
       "      <th>date_added</th>\n",
       "      <th>release_year</th>\n",
       "      <th>rating</th>\n",
       "      <th>duration</th>\n",
       "      <th>listed_in</th>\n",
       "      <th>description</th>\n",
       "    </tr>\n",
       "  </thead>\n",
       "  <tbody>\n",
       "    <tr>\n",
       "      <th>count</th>\n",
       "      <td>6.234000e+03</td>\n",
       "      <td>6234</td>\n",
       "      <td>6234</td>\n",
       "      <td>4265</td>\n",
       "      <td>5664</td>\n",
       "      <td>5758</td>\n",
       "      <td>6223</td>\n",
       "      <td>6234.00000</td>\n",
       "      <td>6224</td>\n",
       "      <td>6234</td>\n",
       "      <td>6234</td>\n",
       "      <td>6234</td>\n",
       "    </tr>\n",
       "    <tr>\n",
       "      <th>unique</th>\n",
       "      <td>NaN</td>\n",
       "      <td>2</td>\n",
       "      <td>6172</td>\n",
       "      <td>3301</td>\n",
       "      <td>5469</td>\n",
       "      <td>554</td>\n",
       "      <td>1524</td>\n",
       "      <td>NaN</td>\n",
       "      <td>14</td>\n",
       "      <td>201</td>\n",
       "      <td>461</td>\n",
       "      <td>6226</td>\n",
       "    </tr>\n",
       "    <tr>\n",
       "      <th>top</th>\n",
       "      <td>NaN</td>\n",
       "      <td>Movie</td>\n",
       "      <td>Limitless</td>\n",
       "      <td>Raúl Campos, Jan Suter</td>\n",
       "      <td>David Attenborough</td>\n",
       "      <td>United States</td>\n",
       "      <td>January 1, 2020</td>\n",
       "      <td>NaN</td>\n",
       "      <td>TV-MA</td>\n",
       "      <td>1 Season</td>\n",
       "      <td>Documentaries</td>\n",
       "      <td>A surly septuagenarian gets another chance at ...</td>\n",
       "    </tr>\n",
       "    <tr>\n",
       "      <th>freq</th>\n",
       "      <td>NaN</td>\n",
       "      <td>4265</td>\n",
       "      <td>3</td>\n",
       "      <td>18</td>\n",
       "      <td>18</td>\n",
       "      <td>2032</td>\n",
       "      <td>122</td>\n",
       "      <td>NaN</td>\n",
       "      <td>2027</td>\n",
       "      <td>1321</td>\n",
       "      <td>299</td>\n",
       "      <td>3</td>\n",
       "    </tr>\n",
       "    <tr>\n",
       "      <th>mean</th>\n",
       "      <td>7.670368e+07</td>\n",
       "      <td>NaN</td>\n",
       "      <td>NaN</td>\n",
       "      <td>NaN</td>\n",
       "      <td>NaN</td>\n",
       "      <td>NaN</td>\n",
       "      <td>NaN</td>\n",
       "      <td>2013.35932</td>\n",
       "      <td>NaN</td>\n",
       "      <td>NaN</td>\n",
       "      <td>NaN</td>\n",
       "      <td>NaN</td>\n",
       "    </tr>\n",
       "    <tr>\n",
       "      <th>std</th>\n",
       "      <td>1.094296e+07</td>\n",
       "      <td>NaN</td>\n",
       "      <td>NaN</td>\n",
       "      <td>NaN</td>\n",
       "      <td>NaN</td>\n",
       "      <td>NaN</td>\n",
       "      <td>NaN</td>\n",
       "      <td>8.81162</td>\n",
       "      <td>NaN</td>\n",
       "      <td>NaN</td>\n",
       "      <td>NaN</td>\n",
       "      <td>NaN</td>\n",
       "    </tr>\n",
       "    <tr>\n",
       "      <th>min</th>\n",
       "      <td>2.477470e+05</td>\n",
       "      <td>NaN</td>\n",
       "      <td>NaN</td>\n",
       "      <td>NaN</td>\n",
       "      <td>NaN</td>\n",
       "      <td>NaN</td>\n",
       "      <td>NaN</td>\n",
       "      <td>1925.00000</td>\n",
       "      <td>NaN</td>\n",
       "      <td>NaN</td>\n",
       "      <td>NaN</td>\n",
       "      <td>NaN</td>\n",
       "    </tr>\n",
       "    <tr>\n",
       "      <th>25%</th>\n",
       "      <td>8.003580e+07</td>\n",
       "      <td>NaN</td>\n",
       "      <td>NaN</td>\n",
       "      <td>NaN</td>\n",
       "      <td>NaN</td>\n",
       "      <td>NaN</td>\n",
       "      <td>NaN</td>\n",
       "      <td>2013.00000</td>\n",
       "      <td>NaN</td>\n",
       "      <td>NaN</td>\n",
       "      <td>NaN</td>\n",
       "      <td>NaN</td>\n",
       "    </tr>\n",
       "    <tr>\n",
       "      <th>50%</th>\n",
       "      <td>8.016337e+07</td>\n",
       "      <td>NaN</td>\n",
       "      <td>NaN</td>\n",
       "      <td>NaN</td>\n",
       "      <td>NaN</td>\n",
       "      <td>NaN</td>\n",
       "      <td>NaN</td>\n",
       "      <td>2016.00000</td>\n",
       "      <td>NaN</td>\n",
       "      <td>NaN</td>\n",
       "      <td>NaN</td>\n",
       "      <td>NaN</td>\n",
       "    </tr>\n",
       "    <tr>\n",
       "      <th>75%</th>\n",
       "      <td>8.024489e+07</td>\n",
       "      <td>NaN</td>\n",
       "      <td>NaN</td>\n",
       "      <td>NaN</td>\n",
       "      <td>NaN</td>\n",
       "      <td>NaN</td>\n",
       "      <td>NaN</td>\n",
       "      <td>2018.00000</td>\n",
       "      <td>NaN</td>\n",
       "      <td>NaN</td>\n",
       "      <td>NaN</td>\n",
       "      <td>NaN</td>\n",
       "    </tr>\n",
       "    <tr>\n",
       "      <th>max</th>\n",
       "      <td>8.123573e+07</td>\n",
       "      <td>NaN</td>\n",
       "      <td>NaN</td>\n",
       "      <td>NaN</td>\n",
       "      <td>NaN</td>\n",
       "      <td>NaN</td>\n",
       "      <td>NaN</td>\n",
       "      <td>2020.00000</td>\n",
       "      <td>NaN</td>\n",
       "      <td>NaN</td>\n",
       "      <td>NaN</td>\n",
       "      <td>NaN</td>\n",
       "    </tr>\n",
       "  </tbody>\n",
       "</table>\n",
       "</div>"
      ],
      "text/plain": [
       "             show_id   type      title                director  \\\n",
       "count   6.234000e+03   6234       6234                    4265   \n",
       "unique           NaN      2       6172                    3301   \n",
       "top              NaN  Movie  Limitless  Raúl Campos, Jan Suter   \n",
       "freq             NaN   4265          3                      18   \n",
       "mean    7.670368e+07    NaN        NaN                     NaN   \n",
       "std     1.094296e+07    NaN        NaN                     NaN   \n",
       "min     2.477470e+05    NaN        NaN                     NaN   \n",
       "25%     8.003580e+07    NaN        NaN                     NaN   \n",
       "50%     8.016337e+07    NaN        NaN                     NaN   \n",
       "75%     8.024489e+07    NaN        NaN                     NaN   \n",
       "max     8.123573e+07    NaN        NaN                     NaN   \n",
       "\n",
       "                      cast        country       date_added  release_year  \\\n",
       "count                 5664           5758             6223    6234.00000   \n",
       "unique                5469            554             1524           NaN   \n",
       "top     David Attenborough  United States  January 1, 2020           NaN   \n",
       "freq                    18           2032              122           NaN   \n",
       "mean                   NaN            NaN              NaN    2013.35932   \n",
       "std                    NaN            NaN              NaN       8.81162   \n",
       "min                    NaN            NaN              NaN    1925.00000   \n",
       "25%                    NaN            NaN              NaN    2013.00000   \n",
       "50%                    NaN            NaN              NaN    2016.00000   \n",
       "75%                    NaN            NaN              NaN    2018.00000   \n",
       "max                    NaN            NaN              NaN    2020.00000   \n",
       "\n",
       "       rating  duration      listed_in  \\\n",
       "count    6224      6234           6234   \n",
       "unique     14       201            461   \n",
       "top     TV-MA  1 Season  Documentaries   \n",
       "freq     2027      1321            299   \n",
       "mean      NaN       NaN            NaN   \n",
       "std       NaN       NaN            NaN   \n",
       "min       NaN       NaN            NaN   \n",
       "25%       NaN       NaN            NaN   \n",
       "50%       NaN       NaN            NaN   \n",
       "75%       NaN       NaN            NaN   \n",
       "max       NaN       NaN            NaN   \n",
       "\n",
       "                                              description  \n",
       "count                                                6234  \n",
       "unique                                               6226  \n",
       "top     A surly septuagenarian gets another chance at ...  \n",
       "freq                                                    3  \n",
       "mean                                                  NaN  \n",
       "std                                                   NaN  \n",
       "min                                                   NaN  \n",
       "25%                                                   NaN  \n",
       "50%                                                   NaN  \n",
       "75%                                                   NaN  \n",
       "max                                                   NaN  "
      ]
     },
     "execution_count": 33,
     "metadata": {},
     "output_type": "execute_result"
    }
   ],
   "source": [
    "data.describe(include='all')"
   ]
  },
  {
   "cell_type": "markdown",
   "metadata": {},
   "source": [
    "The shows include 4,265 Movie and 1,969 TV Show, with correponding duration to be in minutes or in seasons."
   ]
  },
  {
   "cell_type": "code",
   "execution_count": 117,
   "metadata": {
    "scrolled": true
   },
   "outputs": [
    {
     "data": {
      "text/plain": [
       "type\n",
       "Movie      4265\n",
       "TV Show    1969\n",
       "Name: show_id, dtype: int64"
      ]
     },
     "execution_count": 117,
     "metadata": {},
     "output_type": "execute_result"
    }
   ],
   "source": [
    "data.groupby(by='type', axis=0).show_id.count()"
   ]
  },
  {
   "cell_type": "markdown",
   "metadata": {},
   "source": [
    "# Data proprocessing"
   ]
  },
  {
   "cell_type": "markdown",
   "metadata": {},
   "source": [
    "convert date_added from string to datetime.Sometimes there is a whitespace at the beginning, strip the whitespace before conversion."
   ]
  },
  {
   "cell_type": "code",
   "execution_count": 77,
   "metadata": {},
   "outputs": [
    {
     "name": "stdout",
     "output_type": "stream",
     "text": [
      "0   2019-09-09\n",
      "1   2016-09-09\n",
      "2   2018-09-08\n",
      "3   2018-09-08\n",
      "4   2017-09-08\n",
      "Name: date_added, dtype: datetime64[ns]\n"
     ]
    }
   ],
   "source": [
    "data.date_added = data.date_added.str.lstrip()\n",
    "data.date_added = pd.to_datetime(data.date_added, format=\"%B %d, %Y\")\n",
    "print(data.date_added.head())"
   ]
  },
  {
   "cell_type": "markdown",
   "metadata": {},
   "source": [
    "## Missing values"
   ]
  },
  {
   "cell_type": "markdown",
   "metadata": {},
   "source": [
    "Director column has the most missing values - 1,969 rows, followed by cast column of 570 rows of missing data, and country of 476. There are also a few missing data in date_added and rating. "
   ]
  },
  {
   "cell_type": "code",
   "execution_count": 97,
   "metadata": {},
   "outputs": [
    {
     "data": {
      "text/plain": [
       "show_id            0\n",
       "type               0\n",
       "title              0\n",
       "director        1969\n",
       "cast             570\n",
       "country          476\n",
       "date_added         2\n",
       "release_year       0\n",
       "rating            10\n",
       "duration           0\n",
       "listed_in          0\n",
       "description        0\n",
       "dtype: int64"
      ]
     },
     "execution_count": 97,
     "metadata": {},
     "output_type": "execute_result"
    }
   ],
   "source": [
    "data.isnull().sum()"
   ]
  },
  {
   "cell_type": "markdown",
   "metadata": {},
   "source": [
    "### Date-added"
   ]
  },
  {
   "cell_type": "markdown",
   "metadata": {},
   "source": [
    "Initially, I though the missin data in date_added is due to the fact that it has more than one season in duration. But we could see that for shows with 2 seasons, some of them also have date_added. I guese the date might refer to the date when Netflix introduced the 1st season of the show. Thus, I searched online on the dates and manually fill in the 11 missing data in date_added column."
   ]
  },
  {
   "cell_type": "code",
   "execution_count": 90,
   "metadata": {
    "scrolled": true
   },
   "outputs": [
    {
     "data": {
      "text/html": [
       "<div>\n",
       "<style scoped>\n",
       "    .dataframe tbody tr th:only-of-type {\n",
       "        vertical-align: middle;\n",
       "    }\n",
       "\n",
       "    .dataframe tbody tr th {\n",
       "        vertical-align: top;\n",
       "    }\n",
       "\n",
       "    .dataframe thead th {\n",
       "        text-align: right;\n",
       "    }\n",
       "</style>\n",
       "<table border=\"1\" class=\"dataframe\">\n",
       "  <thead>\n",
       "    <tr style=\"text-align: right;\">\n",
       "      <th></th>\n",
       "      <th>title</th>\n",
       "      <th>show_id</th>\n",
       "      <th>duration</th>\n",
       "    </tr>\n",
       "  </thead>\n",
       "  <tbody>\n",
       "    <tr>\n",
       "      <th>6223</th>\n",
       "      <td>Gunslinger Girl</td>\n",
       "      <td>70204989</td>\n",
       "      <td>2 Seasons</td>\n",
       "    </tr>\n",
       "    <tr>\n",
       "      <th>6224</th>\n",
       "      <td>Anthony Bourdain: Parts Unknown</td>\n",
       "      <td>70304979</td>\n",
       "      <td>5 Seasons</td>\n",
       "    </tr>\n",
       "    <tr>\n",
       "      <th>6225</th>\n",
       "      <td>Frasier</td>\n",
       "      <td>70153412</td>\n",
       "      <td>11 Seasons</td>\n",
       "    </tr>\n",
       "    <tr>\n",
       "      <th>6226</th>\n",
       "      <td>La Familia P. Luche</td>\n",
       "      <td>70243132</td>\n",
       "      <td>3 Seasons</td>\n",
       "    </tr>\n",
       "    <tr>\n",
       "      <th>6227</th>\n",
       "      <td>The Adventures of Figaro Pho</td>\n",
       "      <td>80005756</td>\n",
       "      <td>2 Seasons</td>\n",
       "    </tr>\n",
       "    <tr>\n",
       "      <th>6228</th>\n",
       "      <td>Kikoriki</td>\n",
       "      <td>80159925</td>\n",
       "      <td>2 Seasons</td>\n",
       "    </tr>\n",
       "    <tr>\n",
       "      <th>6229</th>\n",
       "      <td>Red vs. Blue</td>\n",
       "      <td>80000063</td>\n",
       "      <td>13 Seasons</td>\n",
       "    </tr>\n",
       "    <tr>\n",
       "      <th>6230</th>\n",
       "      <td>Maron</td>\n",
       "      <td>70286564</td>\n",
       "      <td>4 Seasons</td>\n",
       "    </tr>\n",
       "    <tr>\n",
       "      <th>6231</th>\n",
       "      <td>Little Baby Bum: Nursery Rhyme Friends</td>\n",
       "      <td>80116008</td>\n",
       "      <td>60 min</td>\n",
       "    </tr>\n",
       "    <tr>\n",
       "      <th>6232</th>\n",
       "      <td>A Young Doctor's Notebook and Other Stories</td>\n",
       "      <td>70281022</td>\n",
       "      <td>2 Seasons</td>\n",
       "    </tr>\n",
       "    <tr>\n",
       "      <th>6233</th>\n",
       "      <td>Friends</td>\n",
       "      <td>70153404</td>\n",
       "      <td>10 Seasons</td>\n",
       "    </tr>\n",
       "  </tbody>\n",
       "</table>\n",
       "</div>"
      ],
      "text/plain": [
       "                                            title   show_id    duration\n",
       "6223                              Gunslinger Girl  70204989   2 Seasons\n",
       "6224              Anthony Bourdain: Parts Unknown  70304979   5 Seasons\n",
       "6225                                      Frasier  70153412  11 Seasons\n",
       "6226                          La Familia P. Luche  70243132   3 Seasons\n",
       "6227                 The Adventures of Figaro Pho  80005756   2 Seasons\n",
       "6228                                     Kikoriki  80159925   2 Seasons\n",
       "6229                                 Red vs. Blue  80000063  13 Seasons\n",
       "6230                                        Maron  70286564   4 Seasons\n",
       "6231       Little Baby Bum: Nursery Rhyme Friends  80116008      60 min\n",
       "6232  A Young Doctor's Notebook and Other Stories  70281022   2 Seasons\n",
       "6233                                      Friends  70153404  10 Seasons"
      ]
     },
     "execution_count": 90,
     "metadata": {},
     "output_type": "execute_result"
    }
   ],
   "source": [
    "# data[data.duration=='2 Seasons']\n",
    "ids = data[data.date_added.isnull()][['title','show_id','duration']]\n",
    "ids"
   ]
  },
  {
   "cell_type": "code",
   "execution_count": 96,
   "metadata": {},
   "outputs": [],
   "source": [
    "'''\n",
    "Gunslinger Girl: http://animeonnetflix.com/anime-on-netflix-january-2016-update/\n",
    "Friends: https://www.forbes.com/sites/lisettevoytko/2020/12/31/friends-leaves-netflix-at-midnight-returns-in-may-on-hbo/#21fa88ff3514\n",
    "La Familia P. Luche: https://whatsnewonnetflix.com/usa/18417/la-familia-p-luche-2012\n",
    "The Adventures of Figaro Pho: https://whatsnewonnetflix.com/usa/1804/the-adventures-of-figaro-pho-2015\n",
    "Kikoriki: https://whatsnewonnetflix.com/usa/2834/kikoriki-2010\n",
    "Red vs. Blue: https://en.wikipedia.org/wiki/Red_vs._Blue\n",
    "Maron: https://deadline.com/2016/08/marc-maron-to-star-netflix-comedy-series-g-l-o-w-jenji-kohan-1201811458/\n",
    "'''\n",
    "dates = {'Gunslinger Girl': datetime(2016, 1, 4),\n",
    "         'Friends': datetime(2015, 1, 1),\n",
    "         'La Familia P. Luche': datetime(2018, 1, 9),\n",
    "         'The Adventures of Figaro Pho': datetime(2017, 10, 3),\n",
    "         'Kikoriki':  datetime(2017, 10, 3),\n",
    "         'Red vs. Blue': datetime(2014, 7, 1),\n",
    "         'Maron': datetime(2016, 8, 31),\n",
    "         'Little Baby Bum: Nursery Rhyme Friends': datetime(2019, 10, 17),\n",
    "         \"A Young Doctor's Notebook and Other Stories\": datetime(2017, 10, 3)\n",
    "        }\n",
    "\n",
    "for row_idx in data[data.date_added.isnull()].index:\n",
    "    title = data[data.date_added.isnull()].loc[row_idx,'title']\n",
    "    if title in dates.keys():\n",
    "        data.loc[row_idx, 'date_added'] = dates[title]"
   ]
  },
  {
   "cell_type": "markdown",
   "metadata": {},
   "source": [
    "drop the remaining missing ones"
   ]
  },
  {
   "cell_type": "code",
   "execution_count": 130,
   "metadata": {},
   "outputs": [],
   "source": [
    "data.drop(index=data[data.date_added.isnull()].index, inplace=True)"
   ]
  },
  {
   "cell_type": "markdown",
   "metadata": {},
   "source": [
    "Although the dataset is as of 2019, there are still 184 shows added in 2020.It may be due to planning."
   ]
  },
  {
   "cell_type": "code",
   "execution_count": 179,
   "metadata": {},
   "outputs": [
    {
     "data": {
      "text/plain": [
       "184"
      ]
     },
     "execution_count": 179,
     "metadata": {},
     "output_type": "execute_result"
    }
   ],
   "source": [
    "data[data.date_added > datetime(2019,12,31)].show_id.count()"
   ]
  },
  {
   "cell_type": "markdown",
   "metadata": {},
   "source": [
    "### Ratings"
   ]
  },
  {
   "cell_type": "markdown",
   "metadata": {},
   "source": [
    "The missing values could be filled via text mining. Based on description of the show, classcify which rating it belongs to. I will build another classification model using this dataset."
   ]
  },
  {
   "cell_type": "code",
   "execution_count": 110,
   "metadata": {},
   "outputs": [
    {
     "data": {
      "text/plain": [
       "array(['TV-PG', 'TV-MA', 'TV-Y7-FV', 'TV-Y7', 'TV-14', 'R', 'TV-Y', 'NR',\n",
       "       'PG-13', 'TV-G', 'PG', 'G', nan, 'UR', 'NC-17'], dtype=object)"
      ]
     },
     "execution_count": 110,
     "metadata": {},
     "output_type": "execute_result"
    }
   ],
   "source": [
    "data.rating.unique()"
   ]
  },
  {
   "cell_type": "code",
   "execution_count": 118,
   "metadata": {
    "scrolled": true
   },
   "outputs": [
    {
     "data": {
      "text/html": [
       "<div>\n",
       "<style scoped>\n",
       "    .dataframe tbody tr th:only-of-type {\n",
       "        vertical-align: middle;\n",
       "    }\n",
       "\n",
       "    .dataframe tbody tr th {\n",
       "        vertical-align: top;\n",
       "    }\n",
       "\n",
       "    .dataframe thead th {\n",
       "        text-align: right;\n",
       "    }\n",
       "</style>\n",
       "<table border=\"1\" class=\"dataframe\">\n",
       "  <thead>\n",
       "    <tr style=\"text-align: right;\">\n",
       "      <th></th>\n",
       "      <th>show_id</th>\n",
       "      <th>type</th>\n",
       "      <th>title</th>\n",
       "      <th>director</th>\n",
       "      <th>cast</th>\n",
       "      <th>country</th>\n",
       "      <th>date_added</th>\n",
       "      <th>release_year</th>\n",
       "      <th>rating</th>\n",
       "      <th>duration</th>\n",
       "      <th>listed_in</th>\n",
       "      <th>description</th>\n",
       "    </tr>\n",
       "  </thead>\n",
       "  <tbody>\n",
       "    <tr>\n",
       "      <th>211</th>\n",
       "      <td>70129452</td>\n",
       "      <td>Movie</td>\n",
       "      <td>Louis C.K.: Hilarious</td>\n",
       "      <td>Louis C.K.</td>\n",
       "      <td>Louis C.K.</td>\n",
       "      <td>United States</td>\n",
       "      <td>2016-09-16</td>\n",
       "      <td>2010</td>\n",
       "      <td>NaN</td>\n",
       "      <td>84 min</td>\n",
       "      <td>Movies</td>\n",
       "      <td>Emmy-winning comedy writer Louis C.K. brings h...</td>\n",
       "    </tr>\n",
       "    <tr>\n",
       "      <th>2411</th>\n",
       "      <td>80144119</td>\n",
       "      <td>Movie</td>\n",
       "      <td>My Honor Was Loyalty</td>\n",
       "      <td>Alessandro Pepe</td>\n",
       "      <td>Leone Frisa, Paolo Vaccarino, Francesco Miglio...</td>\n",
       "      <td>Italy</td>\n",
       "      <td>2017-03-01</td>\n",
       "      <td>2015</td>\n",
       "      <td>NaN</td>\n",
       "      <td>115 min</td>\n",
       "      <td>Dramas</td>\n",
       "      <td>Amid the chaos and horror of World War II, a c...</td>\n",
       "    </tr>\n",
       "    <tr>\n",
       "      <th>3288</th>\n",
       "      <td>80169801</td>\n",
       "      <td>Movie</td>\n",
       "      <td>13TH: A Conversation with Oprah Winfrey &amp; Ava ...</td>\n",
       "      <td>NaN</td>\n",
       "      <td>Oprah Winfrey, Ava DuVernay</td>\n",
       "      <td>NaN</td>\n",
       "      <td>2017-01-26</td>\n",
       "      <td>2017</td>\n",
       "      <td>NaN</td>\n",
       "      <td>37 min</td>\n",
       "      <td>Movies</td>\n",
       "      <td>Oprah Winfrey sits down with director Ava DuVe...</td>\n",
       "    </tr>\n",
       "    <tr>\n",
       "      <th>4056</th>\n",
       "      <td>80078037</td>\n",
       "      <td>TV Show</td>\n",
       "      <td>Little Lunch</td>\n",
       "      <td>NaN</td>\n",
       "      <td>Flynn Curry, Olivia Deeble, Madison Lu, Oisín ...</td>\n",
       "      <td>Australia</td>\n",
       "      <td>2018-02-01</td>\n",
       "      <td>2015</td>\n",
       "      <td>NaN</td>\n",
       "      <td>1 Season</td>\n",
       "      <td>Kids' TV, TV Comedies</td>\n",
       "      <td>Adopting a child's perspective, this show take...</td>\n",
       "    </tr>\n",
       "    <tr>\n",
       "      <th>4402</th>\n",
       "      <td>80092839</td>\n",
       "      <td>Movie</td>\n",
       "      <td>Fireplace 4K: Classic Crackling Fireplace from...</td>\n",
       "      <td>George Ford</td>\n",
       "      <td>NaN</td>\n",
       "      <td>NaN</td>\n",
       "      <td>2015-12-21</td>\n",
       "      <td>2015</td>\n",
       "      <td>NaN</td>\n",
       "      <td>60 min</td>\n",
       "      <td>Movies</td>\n",
       "      <td>The first of its kind in UHD 4K, with the clea...</td>\n",
       "    </tr>\n",
       "    <tr>\n",
       "      <th>4403</th>\n",
       "      <td>80092835</td>\n",
       "      <td>Movie</td>\n",
       "      <td>Fireplace 4K: Crackling Birchwood from Firepla...</td>\n",
       "      <td>George Ford</td>\n",
       "      <td>NaN</td>\n",
       "      <td>NaN</td>\n",
       "      <td>2015-12-21</td>\n",
       "      <td>2015</td>\n",
       "      <td>NaN</td>\n",
       "      <td>60 min</td>\n",
       "      <td>Movies</td>\n",
       "      <td>For the first time in 4K Ultra-HD, everyone's ...</td>\n",
       "    </tr>\n",
       "    <tr>\n",
       "      <th>4706</th>\n",
       "      <td>80039789</td>\n",
       "      <td>TV Show</td>\n",
       "      <td>Gargantia on the Verdurous Planet</td>\n",
       "      <td>NaN</td>\n",
       "      <td>Kaito Ishikawa, Hisako Kanemoto, Ai Kayano, Ka...</td>\n",
       "      <td>Japan</td>\n",
       "      <td>2016-12-01</td>\n",
       "      <td>2013</td>\n",
       "      <td>NaN</td>\n",
       "      <td>1 Season</td>\n",
       "      <td>Anime Series, International TV Shows</td>\n",
       "      <td>After falling through a wormhole, a space-dwel...</td>\n",
       "    </tr>\n",
       "    <tr>\n",
       "      <th>5015</th>\n",
       "      <td>80114111</td>\n",
       "      <td>Movie</td>\n",
       "      <td>Louis C.K.: Live at the Comedy Store</td>\n",
       "      <td>Louis C.K.</td>\n",
       "      <td>Louis C.K.</td>\n",
       "      <td>United States</td>\n",
       "      <td>2016-08-15</td>\n",
       "      <td>2015</td>\n",
       "      <td>NaN</td>\n",
       "      <td>66 min</td>\n",
       "      <td>Movies</td>\n",
       "      <td>The comic puts his trademark hilarious/thought...</td>\n",
       "    </tr>\n",
       "    <tr>\n",
       "      <th>5234</th>\n",
       "      <td>80161109</td>\n",
       "      <td>Movie</td>\n",
       "      <td>Louis C.K. 2017</td>\n",
       "      <td>Louis C.K.</td>\n",
       "      <td>Louis C.K.</td>\n",
       "      <td>United States</td>\n",
       "      <td>2017-04-04</td>\n",
       "      <td>2017</td>\n",
       "      <td>NaN</td>\n",
       "      <td>74 min</td>\n",
       "      <td>Movies</td>\n",
       "      <td>Louis C.K. muses on religion, eternal love, gi...</td>\n",
       "    </tr>\n",
       "    <tr>\n",
       "      <th>6231</th>\n",
       "      <td>80116008</td>\n",
       "      <td>Movie</td>\n",
       "      <td>Little Baby Bum: Nursery Rhyme Friends</td>\n",
       "      <td>NaN</td>\n",
       "      <td>NaN</td>\n",
       "      <td>NaN</td>\n",
       "      <td>2019-10-17</td>\n",
       "      <td>2016</td>\n",
       "      <td>NaN</td>\n",
       "      <td>60 min</td>\n",
       "      <td>Movies</td>\n",
       "      <td>Nursery rhymes and original music for children...</td>\n",
       "    </tr>\n",
       "  </tbody>\n",
       "</table>\n",
       "</div>"
      ],
      "text/plain": [
       "       show_id     type                                              title  \\\n",
       "211   70129452    Movie                              Louis C.K.: Hilarious   \n",
       "2411  80144119    Movie                               My Honor Was Loyalty   \n",
       "3288  80169801    Movie  13TH: A Conversation with Oprah Winfrey & Ava ...   \n",
       "4056  80078037  TV Show                                       Little Lunch   \n",
       "4402  80092839    Movie  Fireplace 4K: Classic Crackling Fireplace from...   \n",
       "4403  80092835    Movie  Fireplace 4K: Crackling Birchwood from Firepla...   \n",
       "4706  80039789  TV Show                  Gargantia on the Verdurous Planet   \n",
       "5015  80114111    Movie               Louis C.K.: Live at the Comedy Store   \n",
       "5234  80161109    Movie                                    Louis C.K. 2017   \n",
       "6231  80116008    Movie             Little Baby Bum: Nursery Rhyme Friends   \n",
       "\n",
       "             director                                               cast  \\\n",
       "211        Louis C.K.                                         Louis C.K.   \n",
       "2411  Alessandro Pepe  Leone Frisa, Paolo Vaccarino, Francesco Miglio...   \n",
       "3288              NaN                        Oprah Winfrey, Ava DuVernay   \n",
       "4056              NaN  Flynn Curry, Olivia Deeble, Madison Lu, Oisín ...   \n",
       "4402      George Ford                                                NaN   \n",
       "4403      George Ford                                                NaN   \n",
       "4706              NaN  Kaito Ishikawa, Hisako Kanemoto, Ai Kayano, Ka...   \n",
       "5015       Louis C.K.                                         Louis C.K.   \n",
       "5234       Louis C.K.                                         Louis C.K.   \n",
       "6231              NaN                                                NaN   \n",
       "\n",
       "            country date_added  release_year rating  duration  \\\n",
       "211   United States 2016-09-16          2010    NaN    84 min   \n",
       "2411          Italy 2017-03-01          2015    NaN   115 min   \n",
       "3288            NaN 2017-01-26          2017    NaN    37 min   \n",
       "4056      Australia 2018-02-01          2015    NaN  1 Season   \n",
       "4402            NaN 2015-12-21          2015    NaN    60 min   \n",
       "4403            NaN 2015-12-21          2015    NaN    60 min   \n",
       "4706          Japan 2016-12-01          2013    NaN  1 Season   \n",
       "5015  United States 2016-08-15          2015    NaN    66 min   \n",
       "5234  United States 2017-04-04          2017    NaN    74 min   \n",
       "6231            NaN 2019-10-17          2016    NaN    60 min   \n",
       "\n",
       "                                 listed_in  \\\n",
       "211                                 Movies   \n",
       "2411                                Dramas   \n",
       "3288                                Movies   \n",
       "4056                 Kids' TV, TV Comedies   \n",
       "4402                                Movies   \n",
       "4403                                Movies   \n",
       "4706  Anime Series, International TV Shows   \n",
       "5015                                Movies   \n",
       "5234                                Movies   \n",
       "6231                                Movies   \n",
       "\n",
       "                                            description  \n",
       "211   Emmy-winning comedy writer Louis C.K. brings h...  \n",
       "2411  Amid the chaos and horror of World War II, a c...  \n",
       "3288  Oprah Winfrey sits down with director Ava DuVe...  \n",
       "4056  Adopting a child's perspective, this show take...  \n",
       "4402  The first of its kind in UHD 4K, with the clea...  \n",
       "4403  For the first time in 4K Ultra-HD, everyone's ...  \n",
       "4706  After falling through a wormhole, a space-dwel...  \n",
       "5015  The comic puts his trademark hilarious/thought...  \n",
       "5234  Louis C.K. muses on religion, eternal love, gi...  \n",
       "6231  Nursery rhymes and original music for children...  "
      ]
     },
     "execution_count": 118,
     "metadata": {},
     "output_type": "execute_result"
    }
   ],
   "source": [
    "data[data.rating.isnull()]"
   ]
  },
  {
   "cell_type": "markdown",
   "metadata": {},
   "source": [
    "Use average ratings of shows with same listed_in, country, release_year, and similar description to fill in the ratings."
   ]
  },
  {
   "cell_type": "markdown",
   "metadata": {},
   "source": [
    "### Director, Cast & Country"
   ]
  },
  {
   "cell_type": "markdown",
   "metadata": {},
   "source": [
    "It is difficult to fill these columns without further information. Thus, I will leave them unchanged."
   ]
  },
  {
   "cell_type": "markdown",
   "metadata": {},
   "source": [
    "# Exploratory analysis"
   ]
  },
  {
   "cell_type": "markdown",
   "metadata": {},
   "source": [
    "### How the number of TV shows and movies on Netflix has changed each year."
   ]
  },
  {
   "cell_type": "code",
   "execution_count": 171,
   "metadata": {},
   "outputs": [],
   "source": [
    "data['year'] = data.date_added.apply(lambda x: int(x.year))"
   ]
  },
  {
   "cell_type": "code",
   "execution_count": 172,
   "metadata": {},
   "outputs": [],
   "source": [
    "df = data.groupby(['year','type']).title.agg(['count']).rename(columns={'count':'num_of_show'}).reset_index()"
   ]
  },
  {
   "cell_type": "markdown",
   "metadata": {},
   "source": [
    "- Although the dataset is as of 2019, there are still 184 shows added in 2020.It may be due to planning. <br> \n",
    "- When excluding the shows in 2020, we could see that Netflix increases both movies and TV shows each year. Year 2016 is the year when Netflix started to significantly invest in launching new shows on its platform and such efforts were more substaintial in year 2017.\n",
    "- Overall, there are more movies shown on Netflix than TV shows by title. But we should bear in mind that usually there are multiple seasons for a single TV shows, so the total amount of costs for Netflix to purchase them may be comparable."
   ]
  },
  {
   "cell_type": "code",
   "execution_count": 195,
   "metadata": {
    "scrolled": true
   },
   "outputs": [
    {
     "data": {
      "image/png": "[encoded data removed]",
      "text/plain": [
       "<Figure size 432x288 with 1 Axes>"
      ]
     },
     "metadata": {
      "needs_background": "light"
     },
     "output_type": "display_data"
    }
   ],
   "source": [
    "ax = sns.barplot(x=\"year\", y=\"num_of_show\", hue=\"type\", data=df[:-2])"
   ]
  },
  {
   "cell_type": "code",
   "execution_count": 188,
   "metadata": {},
   "outputs": [],
   "source": [
    "# calculate the ratio between movie and TV show each year\n",
    "df_movie = df[df.type=='Movie'].rename(columns={'num_of_show':'num_of_movie'})\n",
    "df_TV = df[df.type=='TV Show'].rename(columns={'num_of_show':'num_of_tv_show'})\n",
    "df_new = df_movie.merge(df_TV, on='year',how='inner')\n",
    "df_new['movie_tv_ratio']  =df_new.num_of_movie / df_new.num_of_tv_show"
   ]
  },
  {
   "cell_type": "markdown",
   "metadata": {},
   "source": [
    "Netflix has gradually invested more on movies since 2016 when the number of shows significantly increased, but the trend reversed in 2019."
   ]
  },
  {
   "cell_type": "code",
   "execution_count": 193,
   "metadata": {},
   "outputs": [
    {
     "data": {
      "image/png": "[encoded data removed]",
      "text/plain": [
       "<Figure size 432x288 with 1 Axes>"
      ]
     },
     "metadata": {
      "needs_background": "light"
     },
     "output_type": "display_data"
    }
   ],
   "source": [
    "ax = sns.lineplot(x=\"year\", y=\"movie_tv_ratio\", data=df_new[:-1])"
   ]
  },
  {
   "cell_type": "markdown",
   "metadata": {},
   "source": [
    "### What types of movies or TV shows does Netflix prefer to invest"
   ]
  },
  {
   "cell_type": "markdown",
   "metadata": {},
   "source": [
    "convert genres in listed_in to words separated by comma, use an embeded vector to represent. "
   ]
  },
  {
   "cell_type": "code",
   "execution_count": 196,
   "metadata": {},
   "outputs": [
    {
     "data": {
      "text/plain": [
       "array(['Children & Family Movies, Comedies', 'Stand-Up Comedy',\n",
       "       'Comedies', 'International Movies, Sci-Fi & Fantasy, Thrillers',\n",
       "       'Action & Adventure, Thrillers',\n",
       "       'Action & Adventure, Dramas, International Movies',\n",
       "       'Children & Family Movies',\n",
       "       'Cult Movies, Dramas, Independent Movies',\n",
       "       'Comedies, Independent Movies, Romantic Movies',\n",
       "       'Action & Adventure, Comedies, International Movies',\n",
       "       'Documentaries', 'Horror Movies, Thrillers',\n",
       "       'Dramas, Independent Movies',\n",
       "       'Dramas, Independent Movies, Romantic Movies',\n",
       "       'Horror Movies, International Movies',\n",
       "       'Children & Family Movies, Comedies, Sci-Fi & Fantasy',\n",
       "       'Comedies, Romantic Movies',\n",
       "       'Dramas, International Movies, Thrillers',\n",
       "       'Dramas, Independent Movies, International Movies',\n",
       "       'Comedies, Dramas, Independent Movies',\n",
       "       'Comedies, International Movies',\n",
       "       'Comedies, International Movies, Romantic Movies',\n",
       "       'Action & Adventure, Comedies, Independent Movies',\n",
       "       'Comedies, Dramas, International Movies',\n",
       "       'Dramas, International Movies, Romantic Movies',\n",
       "       'Comedies, Dramas', 'Horror Movies', 'Dramas, Romantic Movies',\n",
       "       'Action & Adventure, Sci-Fi & Fantasy',\n",
       "       'Children & Family Movies, Dramas', 'Dramas, International Movies',\n",
       "       'Action & Adventure', 'Action & Adventure, International Movies',\n",
       "       'Documentaries, International Movies',\n",
       "       'Children & Family Movies, Music & Musicals',\n",
       "       'International Movies, Thrillers',\n",
       "       'Action & Adventure, International Movies, Sci-Fi & Fantasy',\n",
       "       'Action & Adventure, Dramas',\n",
       "       'Dramas, Sci-Fi & Fantasy, Thrillers',\n",
       "       'Anime Features, Music & Musicals, Sci-Fi & Fantasy',\n",
       "       'Children & Family Movies, Dramas, Faith & Spirituality',\n",
       "       'International Movies, Romantic Movies',\n",
       "       'Comedies, International Movies, Music & Musicals',\n",
       "       'Comedies, Independent Movies, Thrillers',\n",
       "       'Comedies, Horror Movies, International Movies',\n",
       "       'Documentaries, Music & Musicals',\n",
       "       'Independent Movies, International Movies, Thrillers',\n",
       "       'Dramas, Independent Movies, Thrillers',\n",
       "       'Dramas, Independent Movies, LGBTQ Movies', 'Dramas, Thrillers',\n",
       "       'Independent Movies, Sci-Fi & Fantasy, Thrillers',\n",
       "       'Horror Movies, Independent Movies',\n",
       "       'Action & Adventure, Comedies, Cult Movies', 'Movies',\n",
       "       'Documentaries, International Movies, Music & Musicals', 'Dramas',\n",
       "       'Action & Adventure, Independent Movies', 'Thrillers',\n",
       "       'Children & Family Movies, Comedies, Romantic Movies',\n",
       "       'Comedies, Cult Movies, Dramas',\n",
       "       'Classic Movies, Comedies, Cult Movies', 'Comedies, Cult Movies',\n",
       "       'Dramas, Romantic Movies, Sci-Fi & Fantasy',\n",
       "       'Horror Movies, Independent Movies, Thrillers',\n",
       "       'Action & Adventure, Romantic Movies',\n",
       "       'Action & Adventure, Comedies',\n",
       "       'Documentaries, International Movies, Sports Movies',\n",
       "       'Independent Movies, Thrillers',\n",
       "       'Children & Family Movies, Comedies, Dramas',\n",
       "       'Comedies, Cult Movies, Horror Movies',\n",
       "       'Comedies, Independent Movies, International Movies',\n",
       "       'Dramas, International Movies, Sports Movies',\n",
       "       'Horror Movies, International Movies, Thrillers',\n",
       "       'Action & Adventure, Anime Features, International Movies',\n",
       "       'Dramas, International Movies, Music & Musicals',\n",
       "       'Comedies, Horror Movies', 'Documentaries, Sports Movies',\n",
       "       'Classic Movies, Comedies, Independent Movies',\n",
       "       'Documentaries, LGBTQ Movies, Music & Musicals',\n",
       "       'Children & Family Movies, Dramas, Sports Movies',\n",
       "       'Documentaries, LGBTQ Movies',\n",
       "       'Dramas, Romantic Movies, Sports Movies', 'Dramas, Sports Movies',\n",
       "       'Horror Movies, Sci-Fi & Fantasy, Thrillers',\n",
       "       'International Movies', 'Documentaries, Stand-Up Comedy',\n",
       "       'Cult Movies, Horror Movies, Independent Movies',\n",
       "       'International Movies, Music & Musicals, Romantic Movies',\n",
       "       'Comedies, Independent Movies',\n",
       "       'Children & Family Movies, Dramas, International Movies',\n",
       "       'Dramas, Faith & Spirituality', 'Comedies, Music & Musicals',\n",
       "       'Comedies, Documentaries',\n",
       "       'Action & Adventure, Comedies, Sci-Fi & Fantasy',\n",
       "       'Dramas, Faith & Spirituality, International Movies',\n",
       "       'Children & Family Movies, Documentaries, International Movies',\n",
       "       'Dramas, Independent Movies, Sci-Fi & Fantasy',\n",
       "       'Action & Adventure, International Movies, Romantic Movies',\n",
       "       'Comedies, International Movies, Sports Movies',\n",
       "       'Action & Adventure, Anime Features, Sci-Fi & Fantasy',\n",
       "       'Horror Movies, International Movies, Sci-Fi & Fantasy',\n",
       "       'Music & Musicals', 'Children & Family Movies, Sci-Fi & Fantasy',\n",
       "       'International Movies, Music & Musicals',\n",
       "       'Cult Movies, Horror Movies',\n",
       "       'Classic Movies, Dramas, International Movies',\n",
       "       'Sci-Fi & Fantasy, Thrillers',\n",
       "       'Classic Movies, Dramas, Sports Movies',\n",
       "       'Children & Family Movies, Comedies, Sports Movies',\n",
       "       'Action & Adventure, Comedies, Romantic Movies',\n",
       "       'Comedies, Cult Movies, International Movies',\n",
       "       'Action & Adventure, Documentaries, International Movies',\n",
       "       'Comedies, International Movies, Sci-Fi & Fantasy',\n",
       "       'Action & Adventure, International Movies, Music & Musicals',\n",
       "       'Action & Adventure, Dramas, Sci-Fi & Fantasy',\n",
       "       'Dramas, Faith & Spirituality, Romantic Movies', 'Anime Features',\n",
       "       'Comedies, Dramas, LGBTQ Movies',\n",
       "       'International Movies, LGBTQ Movies, Romantic Movies',\n",
       "       'Dramas, International Movies, Sci-Fi & Fantasy',\n",
       "       'Children & Family Movies, Dramas, Romantic Movies',\n",
       "       'Comedies, International Movies, Thrillers',\n",
       "       'Action & Adventure, Children & Family Movies, Comedies',\n",
       "       'Children & Family Movies, Classic Movies',\n",
       "       'Horror Movies, Independent Movies, International Movies',\n",
       "       'Comedies, Dramas, Romantic Movies', 'Comedies, Sci-Fi & Fantasy',\n",
       "       'Comedies, Sports Movies',\n",
       "       'Action & Adventure, Classic Movies, International Movies',\n",
       "       'Classic Movies, Comedies, Sports Movies',\n",
       "       'Classic Movies, Dramas, Independent Movies',\n",
       "       'Cult Movies, Dramas, Thrillers',\n",
       "       'Comedies, International Movies, LGBTQ Movies',\n",
       "       'Action & Adventure, Dramas, Independent Movies',\n",
       "       'Action & Adventure, Independent Movies, Sci-Fi & Fantasy',\n",
       "       'Anime Features, International Movies, Romantic Movies',\n",
       "       'Classic Movies, Dramas, Romantic Movies',\n",
       "       'Classic Movies, Dramas', 'Action & Adventure, Classic Movies',\n",
       "       'Dramas, International Movies, LGBTQ Movies',\n",
       "       'Action & Adventure, Classic Movies, Sci-Fi & Fantasy',\n",
       "       'Classic Movies, Comedies, Music & Musicals',\n",
       "       'Action & Adventure, Horror Movies, Sci-Fi & Fantasy',\n",
       "       'Action & Adventure, Classic Movies, Cult Movies',\n",
       "       'Action & Adventure, Classic Movies, Dramas',\n",
       "       'Action & Adventure, Classic Movies, Comedies',\n",
       "       'Classic Movies, Horror Movies, Thrillers',\n",
       "       'Dramas, Music & Musicals',\n",
       "       'Dramas, Music & Musicals, Sports Movies',\n",
       "       'International Movies, Sci-Fi & Fantasy',\n",
       "       'Action & Adventure, Comedies, Music & Musicals',\n",
       "       'Children & Family Movies, Comedies, Music & Musicals',\n",
       "       'Children & Family Movies, Documentaries',\n",
       "       'Comedies, LGBTQ Movies',\n",
       "       'Action & Adventure, Horror Movies, International Movies',\n",
       "       'Horror Movies, LGBTQ Movies, Thrillers',\n",
       "       'Comedies, Music & Musicals, Sports Movies',\n",
       "       'Documentaries, International Movies, LGBTQ Movies',\n",
       "       'Dramas, Independent Movies, Sports Movies',\n",
       "       'Action & Adventure, Sci-Fi & Fantasy, Thrillers', 'Sports Movies',\n",
       "       'Children & Family Movies, Comedies, International Movies',\n",
       "       'Action & Adventure, Anime Features, Classic Movies',\n",
       "       'Cult Movies, Independent Movies, Thrillers',\n",
       "       'Comedies, Cult Movies, Independent Movies',\n",
       "       'Action & Adventure, Comedies, Dramas',\n",
       "       'Action & Adventure, Independent Movies, International Movies',\n",
       "       'Action & Adventure, Cult Movies, International Movies',\n",
       "       'Action & Adventure, Comedies, Horror Movies',\n",
       "       'Action & Adventure, Horror Movies',\n",
       "       'Classic Movies, Documentaries',\n",
       "       'Documentaries, Faith & Spirituality, Music & Musicals',\n",
       "       'Comedies, Horror Movies, Independent Movies',\n",
       "       'Comedies, Dramas, Music & Musicals',\n",
       "       'Action & Adventure, Children & Family Movies, Independent Movies',\n",
       "       'Children & Family Movies, Comedies, Cult Movies',\n",
       "       'Anime Features, Children & Family Movies, International Movies',\n",
       "       'Documentaries, Dramas, International Movies',\n",
       "       'Children & Family Movies, Dramas, Independent Movies',\n",
       "       'International Movies, Sports Movies',\n",
       "       'Comedies, Faith & Spirituality, Romantic Movies',\n",
       "       'Anime Features, International Movies',\n",
       "       'Children & Family Movies, Dramas, Music & Musicals',\n",
       "       'Children & Family Movies, Faith & Spirituality',\n",
       "       'Horror Movies, International Movies, Romantic Movies',\n",
       "       'Action & Adventure, Horror Movies, Independent Movies',\n",
       "       'Documentaries, Faith & Spirituality, International Movies',\n",
       "       'Music & Musicals, Stand-Up Comedy', 'Romantic Movies',\n",
       "       'Dramas, Independent Movies, Music & Musicals',\n",
       "       'International Movies, Music & Musicals, Thrillers',\n",
       "       'Action & Adventure, Children & Family Movies, Sci-Fi & Fantasy',\n",
       "       'Dramas, LGBTQ Movies', 'Documentaries, Faith & Spirituality',\n",
       "       'Action & Adventure, International Movies, Thrillers',\n",
       "       'Classic Movies, Cult Movies, Horror Movies',\n",
       "       'Dramas, Music & Musicals, Romantic Movies',\n",
       "       'Action & Adventure, Romantic Movies, Sci-Fi & Fantasy',\n",
       "       'Action & Adventure, International Movies, Sports Movies',\n",
       "       'Action & Adventure, Children & Family Movies',\n",
       "       'Comedies, Faith & Spirituality, International Movies',\n",
       "       'Documentaries, Horror Movies',\n",
       "       'Classic Movies, Dramas, Thrillers',\n",
       "       'Anime Features, Children & Family Movies',\n",
       "       'Children & Family Movies, Classic Movies, Comedies',\n",
       "       'Classic Movies, Comedies, Dramas',\n",
       "       'Classic Movies, Dramas, LGBTQ Movies',\n",
       "       'Children & Family Movies, Independent Movies',\n",
       "       'Comedies, Independent Movies, LGBTQ Movies',\n",
       "       'Comedies, Dramas, Sports Movies',\n",
       "       'Comedies, Dramas, Faith & Spirituality',\n",
       "       'Dramas, Sci-Fi & Fantasy',\n",
       "       'Action & Adventure, Anime Features, Children & Family Movies',\n",
       "       'Horror Movies, Sci-Fi & Fantasy',\n",
       "       'Cult Movies, Horror Movies, Thrillers',\n",
       "       'Comedies, Cult Movies, Sports Movies',\n",
       "       'Classic Movies, Dramas, Music & Musicals',\n",
       "       'Classic Movies, Comedies, Romantic Movies',\n",
       "       'Dramas, Horror Movies, Music & Musicals',\n",
       "       'Classic Movies, Independent Movies, Thrillers',\n",
       "       'Comedies, Horror Movies, Sci-Fi & Fantasy', 'Independent Movies',\n",
       "       'Action & Adventure, Children & Family Movies, Classic Movies',\n",
       "       'Classic Movies, Cult Movies, Dramas',\n",
       "       'Action & Adventure, Cult Movies, Sci-Fi & Fantasy',\n",
       "       'Action & Adventure, Sports Movies',\n",
       "       'Comedies, Music & Musicals, Romantic Movies',\n",
       "       'Horror Movies, Independent Movies, Sci-Fi & Fantasy',\n",
       "       'Action & Adventure, Anime Features, Horror Movies',\n",
       "       'Classic Movies, Cult Movies, Documentaries',\n",
       "       'Action & Adventure, Children & Family Movies, Dramas',\n",
       "       'Classic Movies, Comedies, International Movies',\n",
       "       'Action & Adventure, Cult Movies',\n",
       "       'Action & Adventure, Faith & Spirituality, Sci-Fi & Fantasy',\n",
       "       'Anime Features, Romantic Movies',\n",
       "       'Children & Family Movies, Sports Movies', 'Sci-Fi & Fantasy',\n",
       "       'Action & Adventure, Documentaries, Sports Movies',\n",
       "       'Action & Adventure, Dramas, Faith & Spirituality',\n",
       "       'Children & Family Movies, Documentaries, Sports Movies',\n",
       "       'Children & Family Movies, Comedies, LGBTQ Movies',\n",
       "       'Dramas, Horror Movies, Sci-Fi & Fantasy',\n",
       "       'Comedies, Cult Movies, LGBTQ Movies',\n",
       "       'Action & Adventure, Cult Movies, Dramas',\n",
       "       'Comedies, Independent Movies, Music & Musicals',\n",
       "       'Independent Movies, Romantic Movies',\n",
       "       'Children & Family Movies, Comedies, Faith & Spirituality',\n",
       "       'Dramas, Faith & Spirituality, Independent Movies',\n",
       "       'International Movies, Romantic Movies, Sci-Fi & Fantasy'],\n",
       "      dtype=object)"
      ]
     },
     "execution_count": 196,
     "metadata": {},
     "output_type": "execute_result"
    }
   ],
   "source": [
    "genres = data[data.type=='Movie'].listed_in.unique()"
   ]
  }
 ],
 "metadata": {
  "kernelspec": {
   "display_name": "Python 3",
   "language": "python",
   "name": "python3"
  },
  "language_info": {
   "codemirror_mode": {
    "name": "ipython",
    "version": 3
   },
   "file_extension": ".py",
   "mimetype": "text/x-python",
   "name": "python",
   "nbconvert_exporter": "python",
   "pygments_lexer": "ipython3",
   "version": "3.7.3"
  }
 },
 "nbformat": 4,
 "nbformat_minor": 2
}
